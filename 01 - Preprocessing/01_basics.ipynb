{
 "cells": [
  {
   "cell_type": "markdown",
   "metadata": {},
   "source": [
    "1. The first step before training a model is to impute the data and make it suitable for training (`sklearn.impute`)."
   ]
  },
  {
   "cell_type": "code",
   "execution_count": 40,
   "metadata": {
    "ExecuteTime": {
     "end_time": "2024-02-17T12:27:29.060584Z",
     "start_time": "2024-02-17T12:27:29.043728Z"
    }
   },
   "outputs": [],
   "source": [
    "import numpy as np\n",
    "import pandas as pd\n",
    "from sklearn.impute import SimpleImputer\n",
    "\n",
    "arr = pd.DataFrame({\n",
    "    'A': [1, None, None, 4, 5, 6, 7, 8, None, 10],\n",
    "    'B': [6, 7, 8, None, 10, 11, None, 13, None, 15],\n",
    "    'C': [np.nan, np.nan, 'A', 'B', np.nan, 'B', 'B', 'A', 'B', 'A'],\n",
    "    'D': ['Purchase', 'Not Purchase', 'Purchase', 'Not Purchase', 'Purchase', 'Not Purchase', 'Purchase', 'Not Purchase', 'Purchase', 'Not Purchase']\n",
    "})"
   ]
  },
  {
   "cell_type": "code",
   "execution_count": 41,
   "metadata": {
    "ExecuteTime": {
     "end_time": "2024-02-17T12:27:29.091892Z",
     "start_time": "2024-02-17T12:27:29.065352Z"
    }
   },
   "outputs": [
    {
     "data": {
      "text/plain": "           A     B    C             D\n0   1.000000   6.0  NaN      Purchase\n1   5.857143   7.0  NaN  Not Purchase\n2   5.857143   8.0    A      Purchase\n3   4.000000  10.0    B  Not Purchase\n4   5.000000  10.0  NaN      Purchase\n5   6.000000  11.0    B  Not Purchase\n6   7.000000  10.0    B      Purchase\n7   8.000000  13.0    A  Not Purchase\n8   5.857143  10.0    B      Purchase\n9  10.000000  15.0    A  Not Purchase",
      "text/html": "<div>\n<style scoped>\n    .dataframe tbody tr th:only-of-type {\n        vertical-align: middle;\n    }\n\n    .dataframe tbody tr th {\n        vertical-align: top;\n    }\n\n    .dataframe thead th {\n        text-align: right;\n    }\n</style>\n<table border=\"1\" class=\"dataframe\">\n  <thead>\n    <tr style=\"text-align: right;\">\n      <th></th>\n      <th>A</th>\n      <th>B</th>\n      <th>C</th>\n      <th>D</th>\n    </tr>\n  </thead>\n  <tbody>\n    <tr>\n      <th>0</th>\n      <td>1.000000</td>\n      <td>6.0</td>\n      <td>NaN</td>\n      <td>Purchase</td>\n    </tr>\n    <tr>\n      <th>1</th>\n      <td>5.857143</td>\n      <td>7.0</td>\n      <td>NaN</td>\n      <td>Not Purchase</td>\n    </tr>\n    <tr>\n      <th>2</th>\n      <td>5.857143</td>\n      <td>8.0</td>\n      <td>A</td>\n      <td>Purchase</td>\n    </tr>\n    <tr>\n      <th>3</th>\n      <td>4.000000</td>\n      <td>10.0</td>\n      <td>B</td>\n      <td>Not Purchase</td>\n    </tr>\n    <tr>\n      <th>4</th>\n      <td>5.000000</td>\n      <td>10.0</td>\n      <td>NaN</td>\n      <td>Purchase</td>\n    </tr>\n    <tr>\n      <th>5</th>\n      <td>6.000000</td>\n      <td>11.0</td>\n      <td>B</td>\n      <td>Not Purchase</td>\n    </tr>\n    <tr>\n      <th>6</th>\n      <td>7.000000</td>\n      <td>10.0</td>\n      <td>B</td>\n      <td>Purchase</td>\n    </tr>\n    <tr>\n      <th>7</th>\n      <td>8.000000</td>\n      <td>13.0</td>\n      <td>A</td>\n      <td>Not Purchase</td>\n    </tr>\n    <tr>\n      <th>8</th>\n      <td>5.857143</td>\n      <td>10.0</td>\n      <td>B</td>\n      <td>Purchase</td>\n    </tr>\n    <tr>\n      <th>9</th>\n      <td>10.000000</td>\n      <td>15.0</td>\n      <td>A</td>\n      <td>Not Purchase</td>\n    </tr>\n  </tbody>\n</table>\n</div>"
     },
     "execution_count": 41,
     "metadata": {},
     "output_type": "execute_result"
    }
   ],
   "source": [
    "si = SimpleImputer()\n",
    "arr[['A', 'B']] = si.fit_transform(arr[['A', 'B']])\n",
    "arr"
   ]
  },
  {
   "cell_type": "code",
   "execution_count": 42,
   "metadata": {
    "ExecuteTime": {
     "end_time": "2024-02-17T12:27:29.123566Z",
     "start_time": "2024-02-17T12:27:29.094177Z"
    }
   },
   "outputs": [
    {
     "data": {
      "text/plain": "           A     B  C             D\n0   1.000000   6.0  B      Purchase\n1   5.857143   7.0  B  Not Purchase\n2   5.857143   8.0  A      Purchase\n3   4.000000  10.0  B  Not Purchase\n4   5.000000  10.0  B      Purchase\n5   6.000000  11.0  B  Not Purchase\n6   7.000000  10.0  B      Purchase\n7   8.000000  13.0  A  Not Purchase\n8   5.857143  10.0  B      Purchase\n9  10.000000  15.0  A  Not Purchase",
      "text/html": "<div>\n<style scoped>\n    .dataframe tbody tr th:only-of-type {\n        vertical-align: middle;\n    }\n\n    .dataframe tbody tr th {\n        vertical-align: top;\n    }\n\n    .dataframe thead th {\n        text-align: right;\n    }\n</style>\n<table border=\"1\" class=\"dataframe\">\n  <thead>\n    <tr style=\"text-align: right;\">\n      <th></th>\n      <th>A</th>\n      <th>B</th>\n      <th>C</th>\n      <th>D</th>\n    </tr>\n  </thead>\n  <tbody>\n    <tr>\n      <th>0</th>\n      <td>1.000000</td>\n      <td>6.0</td>\n      <td>B</td>\n      <td>Purchase</td>\n    </tr>\n    <tr>\n      <th>1</th>\n      <td>5.857143</td>\n      <td>7.0</td>\n      <td>B</td>\n      <td>Not Purchase</td>\n    </tr>\n    <tr>\n      <th>2</th>\n      <td>5.857143</td>\n      <td>8.0</td>\n      <td>A</td>\n      <td>Purchase</td>\n    </tr>\n    <tr>\n      <th>3</th>\n      <td>4.000000</td>\n      <td>10.0</td>\n      <td>B</td>\n      <td>Not Purchase</td>\n    </tr>\n    <tr>\n      <th>4</th>\n      <td>5.000000</td>\n      <td>10.0</td>\n      <td>B</td>\n      <td>Purchase</td>\n    </tr>\n    <tr>\n      <th>5</th>\n      <td>6.000000</td>\n      <td>11.0</td>\n      <td>B</td>\n      <td>Not Purchase</td>\n    </tr>\n    <tr>\n      <th>6</th>\n      <td>7.000000</td>\n      <td>10.0</td>\n      <td>B</td>\n      <td>Purchase</td>\n    </tr>\n    <tr>\n      <th>7</th>\n      <td>8.000000</td>\n      <td>13.0</td>\n      <td>A</td>\n      <td>Not Purchase</td>\n    </tr>\n    <tr>\n      <th>8</th>\n      <td>5.857143</td>\n      <td>10.0</td>\n      <td>B</td>\n      <td>Purchase</td>\n    </tr>\n    <tr>\n      <th>9</th>\n      <td>10.000000</td>\n      <td>15.0</td>\n      <td>A</td>\n      <td>Not Purchase</td>\n    </tr>\n  </tbody>\n</table>\n</div>"
     },
     "execution_count": 42,
     "metadata": {},
     "output_type": "execute_result"
    }
   ],
   "source": [
    "si_new = SimpleImputer(strategy='most_frequent')\n",
    "arr[['C']] = si_new.fit_transform(arr[['C']])\n",
    "arr"
   ]
  },
  {
   "cell_type": "markdown",
   "metadata": {},
   "source": [
    "2. Second step is to encode categorical variables (`sklearn.preprocessing`). The 3 types are:\n",
    "- Ordinal Encoder\n",
    "- Label Encoder (for target variables only).\n",
    "- One-Hot Encoder"
   ]
  },
  {
   "cell_type": "code",
   "execution_count": 43,
   "metadata": {
    "ExecuteTime": {
     "end_time": "2024-02-17T12:27:29.139668Z",
     "start_time": "2024-02-17T12:27:29.125713Z"
    }
   },
   "outputs": [
    {
     "data": {
      "text/plain": "           A     B    C             D\n0   1.000000   6.0  1.0      Purchase\n1   5.857143   7.0  1.0  Not Purchase\n2   5.857143   8.0  0.0      Purchase\n3   4.000000  10.0  1.0  Not Purchase\n4   5.000000  10.0  1.0      Purchase\n5   6.000000  11.0  1.0  Not Purchase\n6   7.000000  10.0  1.0      Purchase\n7   8.000000  13.0  0.0  Not Purchase\n8   5.857143  10.0  1.0      Purchase\n9  10.000000  15.0  0.0  Not Purchase",
      "text/html": "<div>\n<style scoped>\n    .dataframe tbody tr th:only-of-type {\n        vertical-align: middle;\n    }\n\n    .dataframe tbody tr th {\n        vertical-align: top;\n    }\n\n    .dataframe thead th {\n        text-align: right;\n    }\n</style>\n<table border=\"1\" class=\"dataframe\">\n  <thead>\n    <tr style=\"text-align: right;\">\n      <th></th>\n      <th>A</th>\n      <th>B</th>\n      <th>C</th>\n      <th>D</th>\n    </tr>\n  </thead>\n  <tbody>\n    <tr>\n      <th>0</th>\n      <td>1.000000</td>\n      <td>6.0</td>\n      <td>1.0</td>\n      <td>Purchase</td>\n    </tr>\n    <tr>\n      <th>1</th>\n      <td>5.857143</td>\n      <td>7.0</td>\n      <td>1.0</td>\n      <td>Not Purchase</td>\n    </tr>\n    <tr>\n      <th>2</th>\n      <td>5.857143</td>\n      <td>8.0</td>\n      <td>0.0</td>\n      <td>Purchase</td>\n    </tr>\n    <tr>\n      <th>3</th>\n      <td>4.000000</td>\n      <td>10.0</td>\n      <td>1.0</td>\n      <td>Not Purchase</td>\n    </tr>\n    <tr>\n      <th>4</th>\n      <td>5.000000</td>\n      <td>10.0</td>\n      <td>1.0</td>\n      <td>Purchase</td>\n    </tr>\n    <tr>\n      <th>5</th>\n      <td>6.000000</td>\n      <td>11.0</td>\n      <td>1.0</td>\n      <td>Not Purchase</td>\n    </tr>\n    <tr>\n      <th>6</th>\n      <td>7.000000</td>\n      <td>10.0</td>\n      <td>1.0</td>\n      <td>Purchase</td>\n    </tr>\n    <tr>\n      <th>7</th>\n      <td>8.000000</td>\n      <td>13.0</td>\n      <td>0.0</td>\n      <td>Not Purchase</td>\n    </tr>\n    <tr>\n      <th>8</th>\n      <td>5.857143</td>\n      <td>10.0</td>\n      <td>1.0</td>\n      <td>Purchase</td>\n    </tr>\n    <tr>\n      <th>9</th>\n      <td>10.000000</td>\n      <td>15.0</td>\n      <td>0.0</td>\n      <td>Not Purchase</td>\n    </tr>\n  </tbody>\n</table>\n</div>"
     },
     "execution_count": 43,
     "metadata": {},
     "output_type": "execute_result"
    }
   ],
   "source": [
    "from sklearn.preprocessing import OrdinalEncoder\n",
    "oe = OrdinalEncoder()\n",
    "arr[['C']] = oe.fit_transform(arr[['C']])\n",
    "arr"
   ]
  },
  {
   "cell_type": "markdown",
   "source": [
    "We can also use `LabelEncoder` for target variables."
   ],
   "metadata": {
    "collapsed": false
   }
  },
  {
   "cell_type": "code",
   "outputs": [
    {
     "data": {
      "text/plain": "           A     B    C  D\n0   1.000000   6.0  1.0  1\n1   5.857143   7.0  1.0  0\n2   5.857143   8.0  0.0  1\n3   4.000000  10.0  1.0  0\n4   5.000000  10.0  1.0  1\n5   6.000000  11.0  1.0  0\n6   7.000000  10.0  1.0  1\n7   8.000000  13.0  0.0  0\n8   5.857143  10.0  1.0  1\n9  10.000000  15.0  0.0  0",
      "text/html": "<div>\n<style scoped>\n    .dataframe tbody tr th:only-of-type {\n        vertical-align: middle;\n    }\n\n    .dataframe tbody tr th {\n        vertical-align: top;\n    }\n\n    .dataframe thead th {\n        text-align: right;\n    }\n</style>\n<table border=\"1\" class=\"dataframe\">\n  <thead>\n    <tr style=\"text-align: right;\">\n      <th></th>\n      <th>A</th>\n      <th>B</th>\n      <th>C</th>\n      <th>D</th>\n    </tr>\n  </thead>\n  <tbody>\n    <tr>\n      <th>0</th>\n      <td>1.000000</td>\n      <td>6.0</td>\n      <td>1.0</td>\n      <td>1</td>\n    </tr>\n    <tr>\n      <th>1</th>\n      <td>5.857143</td>\n      <td>7.0</td>\n      <td>1.0</td>\n      <td>0</td>\n    </tr>\n    <tr>\n      <th>2</th>\n      <td>5.857143</td>\n      <td>8.0</td>\n      <td>0.0</td>\n      <td>1</td>\n    </tr>\n    <tr>\n      <th>3</th>\n      <td>4.000000</td>\n      <td>10.0</td>\n      <td>1.0</td>\n      <td>0</td>\n    </tr>\n    <tr>\n      <th>4</th>\n      <td>5.000000</td>\n      <td>10.0</td>\n      <td>1.0</td>\n      <td>1</td>\n    </tr>\n    <tr>\n      <th>5</th>\n      <td>6.000000</td>\n      <td>11.0</td>\n      <td>1.0</td>\n      <td>0</td>\n    </tr>\n    <tr>\n      <th>6</th>\n      <td>7.000000</td>\n      <td>10.0</td>\n      <td>1.0</td>\n      <td>1</td>\n    </tr>\n    <tr>\n      <th>7</th>\n      <td>8.000000</td>\n      <td>13.0</td>\n      <td>0.0</td>\n      <td>0</td>\n    </tr>\n    <tr>\n      <th>8</th>\n      <td>5.857143</td>\n      <td>10.0</td>\n      <td>1.0</td>\n      <td>1</td>\n    </tr>\n    <tr>\n      <th>9</th>\n      <td>10.000000</td>\n      <td>15.0</td>\n      <td>0.0</td>\n      <td>0</td>\n    </tr>\n  </tbody>\n</table>\n</div>"
     },
     "execution_count": 44,
     "metadata": {},
     "output_type": "execute_result"
    }
   ],
   "source": [
    "from sklearn.preprocessing import LabelEncoder\n",
    "le = LabelEncoder()\n",
    "arr['D'] = le.fit_transform(arr['D'])\n",
    "arr"
   ],
   "metadata": {
    "collapsed": false,
    "ExecuteTime": {
     "end_time": "2024-02-17T12:27:29.170575Z",
     "start_time": "2024-02-17T12:27:29.142825Z"
    }
   },
   "execution_count": 44
  },
  {
   "cell_type": "markdown",
   "source": [
    "We can also use `OneHotEncoder` to encode the categorical variables."
   ],
   "metadata": {
    "collapsed": false
   }
  },
  {
   "cell_type": "code",
   "outputs": [],
   "source": [
    "from sklearn.preprocessing import OneHotEncoder\n",
    "ohe = OneHotEncoder(drop='first', sparse_output=False)\n",
    "\n",
    "df = pd.DataFrame({\n",
    "    'City': ['Delhi', 'Mumbai', 'Hyderabad', 'Kolkata', 'Mumbai', 'Kolkata', 'Delhi', 'Mumbai', 'Kolkata', 'Delhi'],\n",
    "    'Population': [100000, 200000, 300000, 400000, 500000, 600000, 700000, 800000, 900000, 1000000]\n",
    "})\n",
    "\n",
    "enc_city = ohe.fit_transform(df[['City']])\n",
    "\n",
    "df = pd.concat([df, pd.DataFrame(enc_city)], axis=1)\n",
    "\n",
    "df.drop('City', axis=1, inplace=True)"
   ],
   "metadata": {
    "collapsed": false,
    "ExecuteTime": {
     "end_time": "2024-02-17T12:27:29.186318Z",
     "start_time": "2024-02-17T12:27:29.172838Z"
    }
   },
   "execution_count": 45
  },
  {
   "cell_type": "markdown",
   "source": [
    "If we want to reverse the encoding, we can use `inverse_transform` method."
   ],
   "metadata": {
    "collapsed": false
   }
  },
  {
   "cell_type": "code",
   "outputs": [
    {
     "data": {
      "text/plain": "array([['Delhi'],\n       ['Mumbai'],\n       ['Kolkata'],\n       ['Hyderabad']], dtype=object)"
     },
     "execution_count": 46,
     "metadata": {},
     "output_type": "execute_result"
    }
   ],
   "source": [
    "ohe.inverse_transform([[0, 0, 0], [0, 0, 1], [0, 1, 0], [1, 0, 0]])"
   ],
   "metadata": {
    "collapsed": false,
    "ExecuteTime": {
     "end_time": "2024-02-17T12:27:29.200694Z",
     "start_time": "2024-02-17T12:27:29.189733Z"
    }
   },
   "execution_count": 46
  },
  {
   "cell_type": "markdown",
   "source": [
    "Scaling is a process through which we make sure that all the features are on the same scale. This is important because if the features are not on the same scale, then the model will give more importance to the feature which has a higher scale. There are 2 types of scaling:"
   ],
   "metadata": {
    "collapsed": false
   }
  },
  {
   "cell_type": "code",
   "outputs": [
    {
     "data": {
      "text/plain": "     Salary       Age\n0 -1.566699 -1.566699\n1 -1.218544 -1.218544\n2 -0.870388 -0.870388\n3 -0.522233 -0.522233\n4 -0.174078 -0.174078\n5  0.174078  0.174078\n6  0.522233  0.522233\n7  0.870388  0.870388\n8  1.218544  1.218544\n9  1.566699  1.566699",
      "text/html": "<div>\n<style scoped>\n    .dataframe tbody tr th:only-of-type {\n        vertical-align: middle;\n    }\n\n    .dataframe tbody tr th {\n        vertical-align: top;\n    }\n\n    .dataframe thead th {\n        text-align: right;\n    }\n</style>\n<table border=\"1\" class=\"dataframe\">\n  <thead>\n    <tr style=\"text-align: right;\">\n      <th></th>\n      <th>Salary</th>\n      <th>Age</th>\n    </tr>\n  </thead>\n  <tbody>\n    <tr>\n      <th>0</th>\n      <td>-1.566699</td>\n      <td>-1.566699</td>\n    </tr>\n    <tr>\n      <th>1</th>\n      <td>-1.218544</td>\n      <td>-1.218544</td>\n    </tr>\n    <tr>\n      <th>2</th>\n      <td>-0.870388</td>\n      <td>-0.870388</td>\n    </tr>\n    <tr>\n      <th>3</th>\n      <td>-0.522233</td>\n      <td>-0.522233</td>\n    </tr>\n    <tr>\n      <th>4</th>\n      <td>-0.174078</td>\n      <td>-0.174078</td>\n    </tr>\n    <tr>\n      <th>5</th>\n      <td>0.174078</td>\n      <td>0.174078</td>\n    </tr>\n    <tr>\n      <th>6</th>\n      <td>0.522233</td>\n      <td>0.522233</td>\n    </tr>\n    <tr>\n      <th>7</th>\n      <td>0.870388</td>\n      <td>0.870388</td>\n    </tr>\n    <tr>\n      <th>8</th>\n      <td>1.218544</td>\n      <td>1.218544</td>\n    </tr>\n    <tr>\n      <th>9</th>\n      <td>1.566699</td>\n      <td>1.566699</td>\n    </tr>\n  </tbody>\n</table>\n</div>"
     },
     "execution_count": 47,
     "metadata": {},
     "output_type": "execute_result"
    }
   ],
   "source": [
    "from sklearn.preprocessing import StandardScaler\n",
    "\n",
    "df = pd.DataFrame({\n",
    "    'Salary': [10000, 20000, 30000, 40000, 50000, 60000, 70000, 80000, 90000, 100000],\n",
    "    'Age': [20, 25, 30, 35, 40, 45, 50, 55, 60, 65],\n",
    "})\n",
    "\n",
    "sc = StandardScaler()\n",
    "\n",
    "df[['Salary', 'Age']] = sc.fit_transform(df[['Salary', 'Age']])\n",
    "df"
   ],
   "metadata": {
    "collapsed": false,
    "ExecuteTime": {
     "end_time": "2024-02-17T12:27:29.231105Z",
     "start_time": "2024-02-17T12:27:29.202950Z"
    }
   },
   "execution_count": 47
  }
 ],
 "metadata": {
  "kernelspec": {
   "display_name": "digipodium",
   "language": "python",
   "name": "python3"
  },
  "language_info": {
   "codemirror_mode": {
    "name": "ipython",
    "version": 3
   },
   "file_extension": ".py",
   "mimetype": "text/x-python",
   "name": "python",
   "nbconvert_exporter": "python",
   "pygments_lexer": "ipython3",
   "version": "3.8.18"
  }
 },
 "nbformat": 4,
 "nbformat_minor": 2
}
